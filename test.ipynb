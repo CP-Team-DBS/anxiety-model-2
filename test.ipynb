{
 "cells": [
  {
   "cell_type": "code",
   "execution_count": 15,
   "id": "3266c102",
   "metadata": {},
   "outputs": [],
   "source": [
    "from transformers import MarianMTModel, MarianTokenizer"
   ]
  },
  {
   "cell_type": "code",
   "execution_count": 2,
   "id": "fc58b034",
   "metadata": {},
   "outputs": [
    {
     "data": {
      "application/vnd.jupyter.widget-view+json": {
       "model_id": "09538a0c6758405385a84b9c4263c0ab",
       "version_major": 2,
       "version_minor": 0
      },
      "text/plain": [
       "tokenizer_config.json:   0%|          | 0.00/42.0 [00:00<?, ?B/s]"
      ]
     },
     "metadata": {},
     "output_type": "display_data"
    },
    {
     "name": "stderr",
     "output_type": "stream",
     "text": [
      "c:\\Users\\dumbw\\anaconda3\\Lib\\site-packages\\huggingface_hub\\file_download.py:143: UserWarning: `huggingface_hub` cache-system uses symlinks by default to efficiently store duplicated files but your machine does not support them in C:\\Users\\dumbw\\.cache\\huggingface\\hub\\models--Helsinki-NLP--opus-mt-id-en. Caching files will still work but in a degraded version that might require more space on your disk. This warning can be disabled by setting the `HF_HUB_DISABLE_SYMLINKS_WARNING` environment variable. For more details, see https://huggingface.co/docs/huggingface_hub/how-to-cache#limitations.\n",
      "To support symlinks on Windows, you either need to activate Developer Mode or to run Python as an administrator. In order to activate developer mode, see this article: https://docs.microsoft.com/en-us/windows/apps/get-started/enable-your-device-for-development\n",
      "  warnings.warn(message)\n"
     ]
    },
    {
     "data": {
      "application/vnd.jupyter.widget-view+json": {
       "model_id": "cb8b87b1f38f471b88ea7c6d56b651a2",
       "version_major": 2,
       "version_minor": 0
      },
      "text/plain": [
       "source.spm:   0%|          | 0.00/801k [00:00<?, ?B/s]"
      ]
     },
     "metadata": {},
     "output_type": "display_data"
    },
    {
     "data": {
      "application/vnd.jupyter.widget-view+json": {
       "model_id": "76c8eed00d07407ca8438ebdc4fd9f5d",
       "version_major": 2,
       "version_minor": 0
      },
      "text/plain": [
       "target.spm:   0%|          | 0.00/796k [00:00<?, ?B/s]"
      ]
     },
     "metadata": {},
     "output_type": "display_data"
    },
    {
     "data": {
      "application/vnd.jupyter.widget-view+json": {
       "model_id": "2e7ccb95793d49d7853bab76f1e19c7f",
       "version_major": 2,
       "version_minor": 0
      },
      "text/plain": [
       "vocab.json:   0%|          | 0.00/1.26M [00:00<?, ?B/s]"
      ]
     },
     "metadata": {},
     "output_type": "display_data"
    },
    {
     "name": "stderr",
     "output_type": "stream",
     "text": [
      "c:\\Users\\dumbw\\anaconda3\\Lib\\site-packages\\transformers\\models\\marian\\tokenization_marian.py:177: UserWarning: Recommended: pip install sacremoses.\n",
      "  warnings.warn(\"Recommended: pip install sacremoses.\")\n"
     ]
    },
    {
     "data": {
      "application/vnd.jupyter.widget-view+json": {
       "model_id": "942b33a91bf5403180d472a6c28a533b",
       "version_major": 2,
       "version_minor": 0
      },
      "text/plain": [
       "config.json:   0%|          | 0.00/1.38k [00:00<?, ?B/s]"
      ]
     },
     "metadata": {},
     "output_type": "display_data"
    },
    {
     "name": "stderr",
     "output_type": "stream",
     "text": [
      "c:\\Users\\dumbw\\anaconda3\\Lib\\site-packages\\huggingface_hub\\file_download.py:143: UserWarning: `huggingface_hub` cache-system uses symlinks by default to efficiently store duplicated files but your machine does not support them in C:\\Users\\dumbw\\.cache\\huggingface\\hub\\models--Helsinki-NLP--opus-mt-en-id. Caching files will still work but in a degraded version that might require more space on your disk. This warning can be disabled by setting the `HF_HUB_DISABLE_SYMLINKS_WARNING` environment variable. For more details, see https://huggingface.co/docs/huggingface_hub/how-to-cache#limitations.\n",
      "To support symlinks on Windows, you either need to activate Developer Mode or to run Python as an administrator. In order to activate developer mode, see this article: https://docs.microsoft.com/en-us/windows/apps/get-started/enable-your-device-for-development\n",
      "  warnings.warn(message)\n"
     ]
    },
    {
     "data": {
      "application/vnd.jupyter.widget-view+json": {
       "model_id": "fc5c40e3e54e42a8b67b48438d1a1d52",
       "version_major": 2,
       "version_minor": 0
      },
      "text/plain": [
       "pytorch_model.bin:   0%|          | 0.00/291M [00:00<?, ?B/s]"
      ]
     },
     "metadata": {},
     "output_type": "display_data"
    },
    {
     "data": {
      "application/vnd.jupyter.widget-view+json": {
       "model_id": "f2c93fbbd5da4c139a64dc5e524581bb",
       "version_major": 2,
       "version_minor": 0
      },
      "text/plain": [
       "generation_config.json:   0%|          | 0.00/293 [00:00<?, ?B/s]"
      ]
     },
     "metadata": {},
     "output_type": "display_data"
    },
    {
     "data": {
      "application/vnd.jupyter.widget-view+json": {
       "model_id": "dbc81d56c7fd4b45bae5cd8a1727cd36",
       "version_major": 2,
       "version_minor": 0
      },
      "text/plain": [
       "tokenizer_config.json:   0%|          | 0.00/42.0 [00:00<?, ?B/s]"
      ]
     },
     "metadata": {},
     "output_type": "display_data"
    },
    {
     "data": {
      "application/vnd.jupyter.widget-view+json": {
       "model_id": "96b41b5e51324e8693591c02dc787904",
       "version_major": 2,
       "version_minor": 0
      },
      "text/plain": [
       "source.spm:   0%|          | 0.00/796k [00:00<?, ?B/s]"
      ]
     },
     "metadata": {},
     "output_type": "display_data"
    },
    {
     "data": {
      "application/vnd.jupyter.widget-view+json": {
       "model_id": "19f92b6361da424bb7fb4cdba739e0d6",
       "version_major": 2,
       "version_minor": 0
      },
      "text/plain": [
       "target.spm:   0%|          | 0.00/801k [00:00<?, ?B/s]"
      ]
     },
     "metadata": {},
     "output_type": "display_data"
    },
    {
     "data": {
      "application/vnd.jupyter.widget-view+json": {
       "model_id": "7fbd180fc26e4b7b9cf288f3330cd203",
       "version_major": 2,
       "version_minor": 0
      },
      "text/plain": [
       "model.safetensors:   0%|          | 0.00/291M [00:00<?, ?B/s]"
      ]
     },
     "metadata": {},
     "output_type": "display_data"
    },
    {
     "data": {
      "application/vnd.jupyter.widget-view+json": {
       "model_id": "abfdfef3b4de4c76a3484d27afb263e5",
       "version_major": 2,
       "version_minor": 0
      },
      "text/plain": [
       "vocab.json:   0%|          | 0.00/1.26M [00:00<?, ?B/s]"
      ]
     },
     "metadata": {},
     "output_type": "display_data"
    }
   ],
   "source": [
    "# Load model dan tokenizer untuk terjemahan Bahasa Indonesia ke Bahasa Inggris\n",
    "model_name_id_to_en = 'Helsinki-NLP/opus-mt-id-en'\n",
    "model_id_to_en = MarianMTModel.from_pretrained(model_name_id_to_en)\n",
    "tokenizer_id_to_en = MarianTokenizer.from_pretrained(model_name_id_to_en)\n",
    "\n",
    "# Load model dan tokenizer untuk terjemahan Bahasa Inggris ke Bahasa Indonesia\n",
    "model_name_en_to_id = 'Helsinki-NLP/opus-mt-en-id'\n",
    "model_en_to_id = MarianMTModel.from_pretrained(model_name_en_to_id)\n",
    "tokenizer_en_to_id = MarianTokenizer.from_pretrained(model_name_en_to_id)"
   ]
  },
  {
   "cell_type": "code",
   "execution_count": 3,
   "id": "f57ccf2d",
   "metadata": {},
   "outputs": [],
   "source": [
    "# Fungsi untuk menerjemahkan teks dari Bahasa Indonesia ke Bahasa Inggris\n",
    "def translate_to_english(text):\n",
    "    # Encode teks Indonesia menjadi token\n",
    "    translated = tokenizer_id_to_en.encode(text, return_tensors=\"pt\")\n",
    "    \n",
    "    # Generate terjemahan dari token yang sudah diproses\n",
    "    translated_text = model_id_to_en.generate(translated, max_length=512, num_beams=4, early_stopping=True)\n",
    "    \n",
    "    # Decode token terjemahan ke teks\n",
    "    translated_text = tokenizer_id_to_en.decode(translated_text[0], skip_special_tokens=True)\n",
    "    \n",
    "    return translated_text\n",
    "\n",
    "# Fungsi untuk menerjemahkan teks dari Bahasa Inggris ke Bahasa Indonesia\n",
    "def translate_to_indonesian(text):\n",
    "    # Encode teks Inggris menjadi token\n",
    "    translated = tokenizer_en_to_id.encode(text, return_tensors=\"pt\")\n",
    "    \n",
    "    # Generate terjemahan dari token yang sudah diproses\n",
    "    translated_text = model_en_to_id.generate(translated, max_length=512, num_beams=4, early_stopping=True)\n",
    "    \n",
    "    # Decode token terjemahan ke teks\n",
    "    translated_text = tokenizer_en_to_id.decode(translated_text[0], skip_special_tokens=True)\n",
    "    \n",
    "    return translated_text"
   ]
  },
  {
   "cell_type": "code",
   "execution_count": 12,
   "id": "8ae34ba5",
   "metadata": {},
   "outputs": [
    {
     "name": "stdout",
     "output_type": "stream",
     "text": [
      "I'm so pissed off at dbs coding!!!\n"
     ]
    }
   ],
   "source": [
    "input_text_id = \"aku kesal sekali banget sama dbs dicoding!!!\"\n",
    "\n",
    "translated_text_en = translate_to_english(input_text_id)\n",
    "print(translated_text_en)"
   ]
  },
  {
   "cell_type": "code",
   "execution_count": 14,
   "id": "73bab432",
   "metadata": {},
   "outputs": [
    {
     "name": "stdout",
     "output_type": "stream",
     "text": [
      "apa yang kau bicarakan dbs?\n"
     ]
    }
   ],
   "source": [
    "input_text_en = \"wtf are u talking about dbs?\"\n",
    "translated_to_id = translate_to_indonesian(input_text_en)\n",
    "print(translated_to_id)"
   ]
  },
  {
   "cell_type": "code",
   "execution_count": null,
   "id": "f1ab7893",
   "metadata": {},
   "outputs": [],
   "source": []
  }
 ],
 "metadata": {
  "kernelspec": {
   "display_name": "base",
   "language": "python",
   "name": "python3"
  },
  "language_info": {
   "codemirror_mode": {
    "name": "ipython",
    "version": 3
   },
   "file_extension": ".py",
   "mimetype": "text/x-python",
   "name": "python",
   "nbconvert_exporter": "python",
   "pygments_lexer": "ipython3",
   "version": "3.12.7"
  }
 },
 "nbformat": 4,
 "nbformat_minor": 5
}
