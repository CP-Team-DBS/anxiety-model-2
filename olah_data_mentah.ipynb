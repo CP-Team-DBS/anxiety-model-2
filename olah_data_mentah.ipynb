{
 "cells": [
  {
   "cell_type": "code",
   "execution_count": 103,
   "id": "ec131bd0",
   "metadata": {},
   "outputs": [],
   "source": [
    "import pandas as pd"
   ]
  },
  {
   "cell_type": "markdown",
   "id": "1f27ff2b",
   "metadata": {},
   "source": [
    "# Normal Data"
   ]
  },
  {
   "cell_type": "code",
   "execution_count": 104,
   "id": "a60d719b",
   "metadata": {},
   "outputs": [],
   "source": [
    "normal_data = pd.read_csv('data_mentah/Combined Data.csv')"
   ]
  },
  {
   "cell_type": "code",
   "execution_count": 105,
   "id": "12a641a2",
   "metadata": {},
   "outputs": [
    {
     "data": {
      "text/plain": [
       "status\n",
       "Normal                  16351\n",
       "Depression              15404\n",
       "Suicidal                10653\n",
       "Anxiety                  3888\n",
       "Bipolar                  2877\n",
       "Stress                   2669\n",
       "Personality disorder     1201\n",
       "Name: count, dtype: int64"
      ]
     },
     "execution_count": 105,
     "metadata": {},
     "output_type": "execute_result"
    }
   ],
   "source": [
    "normal_data['status'].value_counts()"
   ]
  },
  {
   "cell_type": "code",
   "execution_count": 106,
   "id": "15cffe66",
   "metadata": {},
   "outputs": [],
   "source": [
    "normal_label_data = normal_data[normal_data['status'] == 'Normal']"
   ]
  },
  {
   "cell_type": "code",
   "execution_count": 107,
   "id": "bf2a3253",
   "metadata": {},
   "outputs": [
    {
     "data": {
      "text/plain": [
       "status\n",
       "Normal    16351\n",
       "Name: count, dtype: int64"
      ]
     },
     "execution_count": 107,
     "metadata": {},
     "output_type": "execute_result"
    }
   ],
   "source": [
    "normal_label_data['status'].value_counts()"
   ]
  },
  {
   "cell_type": "code",
   "execution_count": 108,
   "id": "c82cef8e",
   "metadata": {},
   "outputs": [],
   "source": [
    "def filter_by_word_count(df, column_name, min_word_count, output_filename):\n",
    "    \"\"\"\n",
    "    Memfilter dataset berdasarkan jumlah kata di kolom tertentu dan mengekspor hasilnya ke CSV.\n",
    "\n",
    "    :param df: DataFrame yang berisi data.\n",
    "    :param column_name: Nama kolom yang ingin difilter (misal 'status').\n",
    "    :param min_word_count: Jumlah kata minimum yang ingin dipertahankan.\n",
    "    :param output_filename: Nama file output CSV untuk menyimpan hasil filter.\n",
    "    \"\"\"\n",
    "    # Fungsi untuk menghitung jumlah kata di setiap baris dalam kolom status\n",
    "    df['word_count'] = df[column_name].apply(lambda x: len(str(x).split()))\n",
    "\n",
    "    # Memfilter dataset berdasarkan jumlah kata minimum\n",
    "    filtered_df = df[df['word_count'] >= min_word_count]\n",
    "\n",
    "    # Mengekspor hasil filter ke file CSV\n",
    "    filtered_df.to_csv(output_filename, index=False)\n",
    "\n",
    "    # Mengembalikan dataset yang sudah difilter\n",
    "    return filtered_df"
   ]
  },
  {
   "cell_type": "code",
   "execution_count": 109,
   "id": "7c47b3a9",
   "metadata": {},
   "outputs": [
    {
     "name": "stderr",
     "output_type": "stream",
     "text": [
      "C:\\Users\\dumbw\\AppData\\Local\\Temp\\ipykernel_14000\\3910047409.py:11: SettingWithCopyWarning: \n",
      "A value is trying to be set on a copy of a slice from a DataFrame.\n",
      "Try using .loc[row_indexer,col_indexer] = value instead\n",
      "\n",
      "See the caveats in the documentation: https://pandas.pydata.org/pandas-docs/stable/user_guide/indexing.html#returning-a-view-versus-a-copy\n",
      "  df['word_count'] = df[column_name].apply(lambda x: len(str(x).split()))\n"
     ]
    },
    {
     "data": {
      "text/html": [
       "<div>\n",
       "<style scoped>\n",
       "    .dataframe tbody tr th:only-of-type {\n",
       "        vertical-align: middle;\n",
       "    }\n",
       "\n",
       "    .dataframe tbody tr th {\n",
       "        vertical-align: top;\n",
       "    }\n",
       "\n",
       "    .dataframe thead th {\n",
       "        text-align: right;\n",
       "    }\n",
       "</style>\n",
       "<table border=\"1\" class=\"dataframe\">\n",
       "  <thead>\n",
       "    <tr style=\"text-align: right;\">\n",
       "      <th></th>\n",
       "      <th>Unnamed: 0</th>\n",
       "      <th>statement</th>\n",
       "      <th>status</th>\n",
       "      <th>word_count</th>\n",
       "    </tr>\n",
       "  </thead>\n",
       "  <tbody>\n",
       "    <tr>\n",
       "      <th>735</th>\n",
       "      <td>735</td>\n",
       "      <td>Leaves are also standby in front of the PC ......</td>\n",
       "      <td>Normal</td>\n",
       "      <td>18</td>\n",
       "    </tr>\n",
       "    <tr>\n",
       "      <th>741</th>\n",
       "      <td>741</td>\n",
       "      <td>Bismillah for Eid 2021, you get a few question...</td>\n",
       "      <td>Normal</td>\n",
       "      <td>15</td>\n",
       "    </tr>\n",
       "    <tr>\n",
       "      <th>744</th>\n",
       "      <td>744</td>\n",
       "      <td>I want to spend a lot of time shopping for sna...</td>\n",
       "      <td>Normal</td>\n",
       "      <td>22</td>\n",
       "    </tr>\n",
       "    <tr>\n",
       "      <th>745</th>\n",
       "      <td>745</td>\n",
       "      <td>I like to be grateful, don't you think, if you...</td>\n",
       "      <td>Normal</td>\n",
       "      <td>53</td>\n",
       "    </tr>\n",
       "    <tr>\n",
       "      <th>761</th>\n",
       "      <td>761</td>\n",
       "      <td>why is this person blg parcel hampers blah bla...</td>\n",
       "      <td>Normal</td>\n",
       "      <td>18</td>\n",
       "    </tr>\n",
       "    <tr>\n",
       "      <th>...</th>\n",
       "      <td>...</td>\n",
       "      <td>...</td>\n",
       "      <td>...</td>\n",
       "      <td>...</td>\n",
       "    </tr>\n",
       "    <tr>\n",
       "      <th>45385</th>\n",
       "      <td>45385</td>\n",
       "      <td>just read r s amazing blog so tired don t want...</td>\n",
       "      <td>Normal</td>\n",
       "      <td>18</td>\n",
       "    </tr>\n",
       "    <tr>\n",
       "      <th>45386</th>\n",
       "      <td>45386</td>\n",
       "      <td>i hate being awake going to school western civ...</td>\n",
       "      <td>Normal</td>\n",
       "      <td>15</td>\n",
       "    </tr>\n",
       "    <tr>\n",
       "      <th>45387</th>\n",
       "      <td>45387</td>\n",
       "      <td>ha just discovered the downside of going away ...</td>\n",
       "      <td>Normal</td>\n",
       "      <td>17</td>\n",
       "    </tr>\n",
       "    <tr>\n",
       "      <th>45392</th>\n",
       "      <td>45392</td>\n",
       "      <td>ughh can t find my red sox hat got ta wear thi...</td>\n",
       "      <td>Normal</td>\n",
       "      <td>16</td>\n",
       "    </tr>\n",
       "    <tr>\n",
       "      <th>45393</th>\n",
       "      <td>45393</td>\n",
       "      <td>slept wonderfully finally tried swatching for ...</td>\n",
       "      <td>Normal</td>\n",
       "      <td>22</td>\n",
       "    </tr>\n",
       "  </tbody>\n",
       "</table>\n",
       "<p>5490 rows × 4 columns</p>\n",
       "</div>"
      ],
      "text/plain": [
       "       Unnamed: 0                                          statement  status  \\\n",
       "735           735  Leaves are also standby in front of the PC ......  Normal   \n",
       "741           741  Bismillah for Eid 2021, you get a few question...  Normal   \n",
       "744           744  I want to spend a lot of time shopping for sna...  Normal   \n",
       "745           745  I like to be grateful, don't you think, if you...  Normal   \n",
       "761           761  why is this person blg parcel hampers blah bla...  Normal   \n",
       "...           ...                                                ...     ...   \n",
       "45385       45385  just read r s amazing blog so tired don t want...  Normal   \n",
       "45386       45386  i hate being awake going to school western civ...  Normal   \n",
       "45387       45387  ha just discovered the downside of going away ...  Normal   \n",
       "45392       45392  ughh can t find my red sox hat got ta wear thi...  Normal   \n",
       "45393       45393  slept wonderfully finally tried swatching for ...  Normal   \n",
       "\n",
       "       word_count  \n",
       "735            18  \n",
       "741            15  \n",
       "744            22  \n",
       "745            53  \n",
       "761            18  \n",
       "...           ...  \n",
       "45385          18  \n",
       "45386          15  \n",
       "45387          17  \n",
       "45392          16  \n",
       "45393          22  \n",
       "\n",
       "[5490 rows x 4 columns]"
      ]
     },
     "execution_count": 109,
     "metadata": {},
     "output_type": "execute_result"
    }
   ],
   "source": [
    "filter_by_word_count(normal_label_data, 'statement', 15, 'filtered_data_normal.csv')"
   ]
  },
  {
   "cell_type": "code",
   "execution_count": 110,
   "id": "483f5d19",
   "metadata": {},
   "outputs": [
    {
     "data": {
      "text/html": [
       "<div>\n",
       "<style scoped>\n",
       "    .dataframe tbody tr th:only-of-type {\n",
       "        vertical-align: middle;\n",
       "    }\n",
       "\n",
       "    .dataframe tbody tr th {\n",
       "        vertical-align: top;\n",
       "    }\n",
       "\n",
       "    .dataframe thead th {\n",
       "        text-align: right;\n",
       "    }\n",
       "</style>\n",
       "<table border=\"1\" class=\"dataframe\">\n",
       "  <thead>\n",
       "    <tr style=\"text-align: right;\">\n",
       "      <th></th>\n",
       "      <th>Unnamed: 0</th>\n",
       "      <th>statement</th>\n",
       "      <th>status</th>\n",
       "      <th>word_count</th>\n",
       "    </tr>\n",
       "  </thead>\n",
       "  <tbody>\n",
       "    <tr>\n",
       "      <th>0</th>\n",
       "      <td>735</td>\n",
       "      <td>Leaves are also standby in front of the PC ......</td>\n",
       "      <td>Normal</td>\n",
       "      <td>18</td>\n",
       "    </tr>\n",
       "    <tr>\n",
       "      <th>1</th>\n",
       "      <td>741</td>\n",
       "      <td>Bismillah for Eid 2021, you get a few question...</td>\n",
       "      <td>Normal</td>\n",
       "      <td>15</td>\n",
       "    </tr>\n",
       "    <tr>\n",
       "      <th>2</th>\n",
       "      <td>744</td>\n",
       "      <td>I want to spend a lot of time shopping for sna...</td>\n",
       "      <td>Normal</td>\n",
       "      <td>22</td>\n",
       "    </tr>\n",
       "    <tr>\n",
       "      <th>3</th>\n",
       "      <td>745</td>\n",
       "      <td>I like to be grateful, don't you think, if you...</td>\n",
       "      <td>Normal</td>\n",
       "      <td>53</td>\n",
       "    </tr>\n",
       "    <tr>\n",
       "      <th>4</th>\n",
       "      <td>761</td>\n",
       "      <td>why is this person blg parcel hampers blah bla...</td>\n",
       "      <td>Normal</td>\n",
       "      <td>18</td>\n",
       "    </tr>\n",
       "    <tr>\n",
       "      <th>5</th>\n",
       "      <td>766</td>\n",
       "      <td>I want to take a day off from work and then ta...</td>\n",
       "      <td>Normal</td>\n",
       "      <td>17</td>\n",
       "    </tr>\n",
       "    <tr>\n",
       "      <th>6</th>\n",
       "      <td>770</td>\n",
       "      <td>How many bbl tickets are now? How come I want ...</td>\n",
       "      <td>Normal</td>\n",
       "      <td>26</td>\n",
       "    </tr>\n",
       "    <tr>\n",
       "      <th>7</th>\n",
       "      <td>774</td>\n",
       "      <td>I bought a shirt for 200, but I've never worn ...</td>\n",
       "      <td>Normal</td>\n",
       "      <td>53</td>\n",
       "    </tr>\n",
       "    <tr>\n",
       "      <th>8</th>\n",
       "      <td>778</td>\n",
       "      <td>Chinese foreigners can enter at will because t...</td>\n",
       "      <td>Normal</td>\n",
       "      <td>50</td>\n",
       "    </tr>\n",
       "    <tr>\n",
       "      <th>9</th>\n",
       "      <td>782</td>\n",
       "      <td>09.35 WIB #Tol_JORR_E TMII - Cikunir - Cakung ...</td>\n",
       "      <td>Normal</td>\n",
       "      <td>20</td>\n",
       "    </tr>\n",
       "  </tbody>\n",
       "</table>\n",
       "</div>"
      ],
      "text/plain": [
       "   Unnamed: 0                                          statement  status  \\\n",
       "0         735  Leaves are also standby in front of the PC ......  Normal   \n",
       "1         741  Bismillah for Eid 2021, you get a few question...  Normal   \n",
       "2         744  I want to spend a lot of time shopping for sna...  Normal   \n",
       "3         745  I like to be grateful, don't you think, if you...  Normal   \n",
       "4         761  why is this person blg parcel hampers blah bla...  Normal   \n",
       "5         766  I want to take a day off from work and then ta...  Normal   \n",
       "6         770  How many bbl tickets are now? How come I want ...  Normal   \n",
       "7         774  I bought a shirt for 200, but I've never worn ...  Normal   \n",
       "8         778  Chinese foreigners can enter at will because t...  Normal   \n",
       "9         782  09.35 WIB #Tol_JORR_E TMII - Cikunir - Cakung ...  Normal   \n",
       "\n",
       "   word_count  \n",
       "0          18  \n",
       "1          15  \n",
       "2          22  \n",
       "3          53  \n",
       "4          18  \n",
       "5          17  \n",
       "6          26  \n",
       "7          53  \n",
       "8          50  \n",
       "9          20  "
      ]
     },
     "execution_count": 110,
     "metadata": {},
     "output_type": "execute_result"
    }
   ],
   "source": [
    "normal_final_data = pd.read_csv('filtered_data_normal.csv')\n",
    "normal_final_data.head(10)"
   ]
  },
  {
   "cell_type": "code",
   "execution_count": 111,
   "id": "1ca77876",
   "metadata": {},
   "outputs": [
    {
     "name": "stdout",
     "output_type": "stream",
     "text": [
      "<class 'pandas.core.frame.DataFrame'>\n",
      "RangeIndex: 5490 entries, 0 to 5489\n",
      "Data columns (total 4 columns):\n",
      " #   Column      Non-Null Count  Dtype \n",
      "---  ------      --------------  ----- \n",
      " 0   Unnamed: 0  5490 non-null   int64 \n",
      " 1   statement   5490 non-null   object\n",
      " 2   status      5490 non-null   object\n",
      " 3   word_count  5490 non-null   int64 \n",
      "dtypes: int64(2), object(2)\n",
      "memory usage: 171.7+ KB\n"
     ]
    }
   ],
   "source": [
    "normal_final_data.info()"
   ]
  },
  {
   "cell_type": "code",
   "execution_count": 112,
   "id": "9d2f2ed7",
   "metadata": {},
   "outputs": [],
   "source": [
    "normal_final_data = normal_final_data.drop(columns=['Unnamed: 0', 'word_count'])\n",
    "normal_final_data = normal_final_data.rename(columns={'status': 'label'})\n",
    "normal_final_data.to_csv('normal.csv' , index=False)\n"
   ]
  },
  {
   "cell_type": "markdown",
   "id": "1d19f35e",
   "metadata": {},
   "source": [
    "# Anxiety Data"
   ]
  },
  {
   "cell_type": "code",
   "execution_count": 113,
   "id": "91a06d3d",
   "metadata": {},
   "outputs": [],
   "source": [
    "anxiety_data = pd.read_csv('anxiety.csv')"
   ]
  },
  {
   "cell_type": "code",
   "execution_count": 114,
   "id": "7120f4a1",
   "metadata": {},
   "outputs": [
    {
     "data": {
      "text/plain": [
       "(5563, 2)"
      ]
     },
     "execution_count": 114,
     "metadata": {},
     "output_type": "execute_result"
    }
   ],
   "source": [
    "anxiety_data.shape"
   ]
  },
  {
   "cell_type": "code",
   "execution_count": 115,
   "id": "ab4f2005",
   "metadata": {},
   "outputs": [
    {
     "name": "stdout",
     "output_type": "stream",
     "text": [
      "<class 'pandas.core.frame.DataFrame'>\n",
      "RangeIndex: 5563 entries, 0 to 5562\n",
      "Data columns (total 2 columns):\n",
      " #   Column     Non-Null Count  Dtype \n",
      "---  ------     --------------  ----- \n",
      " 0   statement  5563 non-null   object\n",
      " 1   label      5563 non-null   object\n",
      "dtypes: object(2)\n",
      "memory usage: 87.1+ KB\n"
     ]
    }
   ],
   "source": [
    "anxiety_data.info()"
   ]
  },
  {
   "cell_type": "markdown",
   "id": "767d36a2",
   "metadata": {},
   "source": [
    "# Merge Normal & Anxiety"
   ]
  },
  {
   "cell_type": "code",
   "execution_count": 119,
   "id": "81ebe526",
   "metadata": {},
   "outputs": [
    {
     "name": "stdout",
     "output_type": "stream",
     "text": [
      "Normal Data Count :  (5490, 2)\n",
      "Anxiety Data Count :  (5563, 2)\n"
     ]
    }
   ],
   "source": [
    "normal_only = pd.read_csv('normal.csv')\n",
    "anxiety_only = pd.read_csv('anxiety.csv')\n",
    "\n",
    "print(\"Normal Data Count : \", normal_only.shape)\n",
    "print(\"Anxiety Data Count : \", anxiety_data.shape)"
   ]
  },
  {
   "cell_type": "code",
   "execution_count": 120,
   "id": "3d6d38d7",
   "metadata": {},
   "outputs": [],
   "source": [
    "merged_data = pd.concat([normal_only, anxiety_only], ignore_index=True)\n",
    "merged_data.to_csv('merged_data.csv')"
   ]
  },
  {
   "cell_type": "code",
   "execution_count": null,
   "id": "14486b0c",
   "metadata": {},
   "outputs": [],
   "source": []
  }
 ],
 "metadata": {
  "kernelspec": {
   "display_name": "base",
   "language": "python",
   "name": "python3"
  },
  "language_info": {
   "codemirror_mode": {
    "name": "ipython",
    "version": 3
   },
   "file_extension": ".py",
   "mimetype": "text/x-python",
   "name": "python",
   "nbconvert_exporter": "python",
   "pygments_lexer": "ipython3",
   "version": "3.12.7"
  }
 },
 "nbformat": 4,
 "nbformat_minor": 5
}
