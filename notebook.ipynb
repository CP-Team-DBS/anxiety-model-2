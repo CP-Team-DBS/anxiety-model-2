{
 "cells": [
  {
   "cell_type": "code",
   "execution_count": 2,
   "id": "4899fa0f",
   "metadata": {},
   "outputs": [],
   "source": [
    "import pandas as pd\n",
    "from sklearn.model_selection import train_test_split\n",
    "from sklearn.feature_extraction.text import TfidfVectorizer\n",
    "from sklearn.naive_bayes import MultinomialNB\n",
    "from sklearn.metrics import classification_report\n",
    "from tensorflow.keras.preprocessing.text import Tokenizer\n",
    "from tensorflow.keras.preprocessing.sequence import pad_sequences"
   ]
  },
  {
   "cell_type": "code",
   "execution_count": 30,
   "id": "69fc67a1",
   "metadata": {},
   "outputs": [
    {
     "data": {
      "text/html": [
       "<div>\n",
       "<style scoped>\n",
       "    .dataframe tbody tr th:only-of-type {\n",
       "        vertical-align: middle;\n",
       "    }\n",
       "\n",
       "    .dataframe tbody tr th {\n",
       "        vertical-align: top;\n",
       "    }\n",
       "\n",
       "    .dataframe thead th {\n",
       "        text-align: right;\n",
       "    }\n",
       "</style>\n",
       "<table border=\"1\" class=\"dataframe\">\n",
       "  <thead>\n",
       "    <tr style=\"text-align: right;\">\n",
       "      <th></th>\n",
       "      <th>Tanpa Nama: 0</th>\n",
       "      <th>penyataan</th>\n",
       "      <th>status</th>\n",
       "    </tr>\n",
       "  </thead>\n",
       "  <tbody>\n",
       "    <tr>\n",
       "      <th>0</th>\n",
       "      <td>31645</td>\n",
       "      <td>Saya pikir, itu hanya akan memakan waktu satu...</td>\n",
       "      <td>Normal</td>\n",
       "    </tr>\n",
       "    <tr>\n",
       "      <th>1</th>\n",
       "      <td>31843</td>\n",
       "      <td>Tolong?</td>\n",
       "      <td>Normal</td>\n",
       "    </tr>\n",
       "    <tr>\n",
       "      <th>2</th>\n",
       "      <td>1739</td>\n",
       "      <td>Aduu lebaran kali ini gak bisa kumpul lagi, t...</td>\n",
       "      <td>Normal</td>\n",
       "    </tr>\n",
       "    <tr>\n",
       "      <th>3</th>\n",
       "      <td>43846</td>\n",
       "      <td>sayang aku sangat merindukanmu</td>\n",
       "      <td>Normal</td>\n",
       "    </tr>\n",
       "    <tr>\n",
       "      <th>4</th>\n",
       "      <td>4961</td>\n",
       "      <td>15 menit jika Anda tidak tidur. Jika Anda tid...</td>\n",
       "      <td>Normal</td>\n",
       "    </tr>\n",
       "    <tr>\n",
       "      <th>...</th>\n",
       "      <td>...</td>\n",
       "      <td>...</td>\n",
       "      <td>...</td>\n",
       "    </tr>\n",
       "    <tr>\n",
       "      <th>7771</th>\n",
       "      <td>53038</td>\n",
       "      <td>Tidak ada yang menganggapku serius. Aku (24M) ...</td>\n",
       "      <td>Kecemasan</td>\n",
       "    </tr>\n",
       "    <tr>\n",
       "      <th>7772</th>\n",
       "      <td>53039</td>\n",
       "      <td>keegoisan \"Saya merasa tidak enak badan, rasan...</td>\n",
       "      <td>Kecemasan</td>\n",
       "    </tr>\n",
       "    <tr>\n",
       "      <th>7773</th>\n",
       "      <td>53040</td>\n",
       "      <td>Apakah ada cara untuk tidur lebih baik? Saya t...</td>\n",
       "      <td>Kecemasan</td>\n",
       "    </tr>\n",
       "    <tr>\n",
       "      <th>7774</th>\n",
       "      <td>53041</td>\n",
       "      <td>Tips berbicara di depan umum? Hai, semuanya. ...</td>\n",
       "      <td>Kecemasan</td>\n",
       "    </tr>\n",
       "    <tr>\n",
       "      <th>7775</th>\n",
       "      <td>53042</td>\n",
       "      <td>Saya benar-benar mengalami kecemasan saat mem...</td>\n",
       "      <td>Kecemasan</td>\n",
       "    </tr>\n",
       "  </tbody>\n",
       "</table>\n",
       "<p>7776 rows × 3 columns</p>\n",
       "</div>"
      ],
      "text/plain": [
       "      Tanpa Nama: 0                                          penyataan  \\\n",
       "0             31645   Saya pikir, itu hanya akan memakan waktu satu...   \n",
       "1             31843                                            Tolong?   \n",
       "2              1739   Aduu lebaran kali ini gak bisa kumpul lagi, t...   \n",
       "3             43846                     sayang aku sangat merindukanmu   \n",
       "4              4961   15 menit jika Anda tidak tidur. Jika Anda tid...   \n",
       "...             ...                                                ...   \n",
       "7771          53038  Tidak ada yang menganggapku serius. Aku (24M) ...   \n",
       "7772          53039  keegoisan \"Saya merasa tidak enak badan, rasan...   \n",
       "7773          53040  Apakah ada cara untuk tidur lebih baik? Saya t...   \n",
       "7774          53041   Tips berbicara di depan umum? Hai, semuanya. ...   \n",
       "7775          53042   Saya benar-benar mengalami kecemasan saat mem...   \n",
       "\n",
       "          status  \n",
       "0         Normal  \n",
       "1         Normal  \n",
       "2         Normal  \n",
       "3         Normal  \n",
       "4         Normal  \n",
       "...          ...  \n",
       "7771   Kecemasan  \n",
       "7772   Kecemasan  \n",
       "7773   Kecemasan  \n",
       "7774   Kecemasan  \n",
       "7775   Kecemasan  \n",
       "\n",
       "[7776 rows x 3 columns]"
      ]
     },
     "execution_count": 30,
     "metadata": {},
     "output_type": "execute_result"
    }
   ],
   "source": [
    "df = pd.read_csv('dataset_anxiety.csv')\n",
    "df"
   ]
  },
  {
   "cell_type": "code",
   "execution_count": null,
   "id": "74d9ddf5",
   "metadata": {},
   "outputs": [
    {
     "data": {
      "image/png": "[encoded data removed]",
      "text/plain": [
       "<Figure size 1000x500 with 1 Axes>"
      ]
     },
     "metadata": {},
     "output_type": "display_data"
    }
   ],
   "source": [
    "import matplotlib.pyplot as plt\n",
    "\n",
    "plt.figure(figsize=(10,5))\n",
    "plt.bar(df['status'].value_counts().index, df['status'].value_counts())\n",
    "plt.xlabel('Status')\n",
    "plt.ylabel('Jumlah')\n",
    "plt.show()  "
   ]
  },
  {
   "cell_type": "code",
   "execution_count": 32,
   "id": "5694d7f1",
   "metadata": {},
   "outputs": [
    {
     "data": {
      "text/plain": [
       "Tanpa Nama: 0     0\n",
       "penyataan        47\n",
       "status            0\n",
       "dtype: int64"
      ]
     },
     "execution_count": 32,
     "metadata": {},
     "output_type": "execute_result"
    }
   ],
   "source": [
    "df.isna().sum()"
   ]
  },
  {
   "cell_type": "code",
   "execution_count": 38,
   "id": "a3810d00",
   "metadata": {},
   "outputs": [],
   "source": [
    "df.dropna(inplace=True)"
   ]
  },
  {
   "cell_type": "code",
   "execution_count": 39,
   "id": "cbc2758b",
   "metadata": {},
   "outputs": [
    {
     "data": {
      "text/plain": [
       "status\n",
       "Normal       3888\n",
       "Kecemasan    3841\n",
       "Name: count, dtype: int64"
      ]
     },
     "execution_count": 39,
     "metadata": {},
     "output_type": "execute_result"
    }
   ],
   "source": [
    "df['status'].value_counts()"
   ]
  },
  {
   "cell_type": "code",
   "execution_count": null,
   "id": "210da5ed",
   "metadata": {},
   "outputs": [],
   "source": [
    "# Preprocessing\n",
    "df['penyataan'] = df['penyataan'].str.lower()  # Lowercase text\n",
    "df['penyataan'] = df['penyataan'].fillna('')  # Handle missing values"
   ]
  },
  {
   "cell_type": "code",
   "execution_count": 47,
   "id": "fbf8108c",
   "metadata": {},
   "outputs": [],
   "source": [
    "# Tokenization\n",
    "tokenizer = Tokenizer(num_words=10000)  # Limit to the top 10000 words\n",
    "tokenizer.fit_on_texts(df['penyataan'])"
   ]
  },
  {
   "cell_type": "code",
   "execution_count": 48,
   "id": "a9960e06",
   "metadata": {},
   "outputs": [],
   "source": [
    "# Convert text to sequences of integers\n",
    "X = tokenizer.texts_to_sequences(df['penyataan'])"
   ]
  },
  {
   "cell_type": "code",
   "execution_count": 51,
   "id": "8cebc246",
   "metadata": {},
   "outputs": [],
   "source": [
    "# Pad sequences to make sure they are of the same length\n",
    "max_length = 100  # You can adjust this based on your dataset\n",
    "X = pad_sequences(X, maxlen=max_length)"
   ]
  },
  {
   "cell_type": "code",
   "execution_count": 3,
   "id": "ad8ec514",
   "metadata": {},
   "outputs": [
    {
     "data": {
      "text/html": [
       "<div>\n",
       "<style scoped>\n",
       "    .dataframe tbody tr th:only-of-type {\n",
       "        vertical-align: middle;\n",
       "    }\n",
       "\n",
       "    .dataframe tbody tr th {\n",
       "        vertical-align: top;\n",
       "    }\n",
       "\n",
       "    .dataframe thead th {\n",
       "        text-align: right;\n",
       "    }\n",
       "</style>\n",
       "<table border=\"1\" class=\"dataframe\">\n",
       "  <thead>\n",
       "    <tr style=\"text-align: right;\">\n",
       "      <th></th>\n",
       "      <th>statement</th>\n",
       "      <th>status</th>\n",
       "      <th>cleaned</th>\n",
       "      <th>empath_label</th>\n",
       "      <th>empath_scores</th>\n",
       "      <th>label_encoded</th>\n",
       "    </tr>\n",
       "  </thead>\n",
       "  <tbody>\n",
       "    <tr>\n",
       "      <th>0</th>\n",
       "      <td>i think it will only take you a year or two.</td>\n",
       "      <td>Normal</td>\n",
       "      <td>think take year two</td>\n",
       "      <td>anxiety</td>\n",
       "      <td>{'anxiety': 0.0, 'fear': 0.0, 'nervousness': 0...</td>\n",
       "      <td>0</td>\n",
       "    </tr>\n",
       "    <tr>\n",
       "      <th>1</th>\n",
       "      <td>please?</td>\n",
       "      <td>Normal</td>\n",
       "      <td>please</td>\n",
       "      <td>anxiety</td>\n",
       "      <td>{'anxiety': 0.0, 'fear': 0.0, 'nervousness': 0...</td>\n",
       "      <td>0</td>\n",
       "    </tr>\n",
       "    <tr>\n",
       "      <th>2</th>\n",
       "      <td>Aduu this Lebaran can't get together again, th...</td>\n",
       "      <td>Normal</td>\n",
       "      <td>aduu lebaran cant get together year also dont ...</td>\n",
       "      <td>fear</td>\n",
       "      <td>{'anxiety': 0.0, 'fear': 0.0625, 'nervousness'...</td>\n",
       "      <td>2</td>\n",
       "    </tr>\n",
       "    <tr>\n",
       "      <th>3</th>\n",
       "      <td>baby i miss you so much</td>\n",
       "      <td>Normal</td>\n",
       "      <td>baby miss much</td>\n",
       "      <td>anxiety</td>\n",
       "      <td>{'anxiety': 0.0, 'fear': 0.0, 'nervousness': 0...</td>\n",
       "      <td>0</td>\n",
       "    </tr>\n",
       "    <tr>\n",
       "      <th>4</th>\n",
       "      <td>15 minutes long if you don't sleep. If you sle...</td>\n",
       "      <td>Normal</td>\n",
       "      <td>minutes long dont sleep sleep</td>\n",
       "      <td>anxiety</td>\n",
       "      <td>{'anxiety': 0.0, 'fear': 0.0, 'nervousness': 0...</td>\n",
       "      <td>0</td>\n",
       "    </tr>\n",
       "  </tbody>\n",
       "</table>\n",
       "</div>"
      ],
      "text/plain": [
       "                                           statement  status  \\\n",
       "0       i think it will only take you a year or two.  Normal   \n",
       "1                                            please?  Normal   \n",
       "2  Aduu this Lebaran can't get together again, th...  Normal   \n",
       "3                            baby i miss you so much  Normal   \n",
       "4  15 minutes long if you don't sleep. If you sle...  Normal   \n",
       "\n",
       "                                             cleaned empath_label  \\\n",
       "0                                think take year two      anxiety   \n",
       "1                                             please      anxiety   \n",
       "2  aduu lebaran cant get together year also dont ...         fear   \n",
       "3                                     baby miss much      anxiety   \n",
       "4                      minutes long dont sleep sleep      anxiety   \n",
       "\n",
       "                                       empath_scores  label_encoded  \n",
       "0  {'anxiety': 0.0, 'fear': 0.0, 'nervousness': 0...              0  \n",
       "1  {'anxiety': 0.0, 'fear': 0.0, 'nervousness': 0...              0  \n",
       "2  {'anxiety': 0.0, 'fear': 0.0625, 'nervousness'...              2  \n",
       "3  {'anxiety': 0.0, 'fear': 0.0, 'nervousness': 0...              0  \n",
       "4  {'anxiety': 0.0, 'fear': 0.0, 'nervousness': 0...              0  "
      ]
     },
     "execution_count": 3,
     "metadata": {},
     "output_type": "execute_result"
    }
   ],
   "source": [
    "emo = pd.read_csv('emo-scoring.csv')\n",
    "emo.head(5)"
   ]
  },
  {
   "cell_type": "code",
   "execution_count": null,
   "id": "e5951620",
   "metadata": {},
   "outputs": [],
   "source": []
  }
 ],
 "metadata": {
  "kernelspec": {
   "display_name": "base",
   "language": "python",
   "name": "python3"
  },
  "language_info": {
   "codemirror_mode": {
    "name": "ipython",
    "version": 3
   },
   "file_extension": ".py",
   "mimetype": "text/x-python",
   "name": "python",
   "nbconvert_exporter": "python",
   "pygments_lexer": "ipython3",
   "version": "3.12.7"
  }
 },
 "nbformat": 4,
 "nbformat_minor": 5
}
