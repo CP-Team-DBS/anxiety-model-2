{
 "cells": [
  {
   "cell_type": "code",
   "execution_count": 18,
   "id": "4b9b95cc",
   "metadata": {},
   "outputs": [
    {
     "name": "stdout",
     "output_type": "stream",
     "text": [
      "                                               statement    label  word_count\n",
      "0      Leaves are also standby in front of the PC ......   Normal          18\n",
      "1      Bismillah for Eid 2021, you get a few question...   Normal          15\n",
      "2      I want to spend a lot of time shopping for sna...   Normal          22\n",
      "3      I like to be grateful, don't you think, if you...   Normal          53\n",
      "4      why is this person blg parcel hampers blah bla...   Normal          18\n",
      "...                                                  ...      ...         ...\n",
      "11048  Nobody takes me seriously I’ve (24M) dealt wit...  Anxiety         322\n",
      "11049  selfishness  \"I don't feel very good, it's lik...  Anxiety         198\n",
      "11050  Is there any way to sleep better? I can't slee...  Anxiety          17\n",
      "11051  Public speaking tips? Hi, all. I have to give ...  Anxiety          74\n",
      "11052  I have really bad door anxiety! It's not about...  Anxiety          79\n",
      "\n",
      "[11053 rows x 3 columns]\n"
     ]
    }
   ],
   "source": [
    "import pandas as pd\n",
    "\n",
    "# Contoh dataframe\n",
    "\n",
    "df = pd.read_csv(\"datasets.csv\")\n",
    "\n",
    "\n",
    "# Fungsi untuk menghitung jumlah kata dalam statement\n",
    "df['word_count'] = df['statement'].apply(lambda x: len(x.split()))\n",
    "\n",
    "# Filter statement dengan label 'anxiety' yang memiliki jumlah kata < 13\n",
    "filtered_df = df[~((df['label'] == 'anxiety') & (df['word_count'] < 13))]\n",
    "\n",
    "\n",
    "print(filtered_df)\n"
   ]
  },
  {
   "cell_type": "code",
   "execution_count": 21,
   "id": "bed2ae86",
   "metadata": {},
   "outputs": [],
   "source": [
    "df_filtered = df[df['word_count'] >= 13]\n"
   ]
  },
  {
   "cell_type": "code",
   "execution_count": 22,
   "id": "4a1af95f",
   "metadata": {},
   "outputs": [
    {
     "name": "stdout",
     "output_type": "stream",
     "text": [
      "<class 'pandas.core.frame.DataFrame'>\n",
      "Index: 10299 entries, 0 to 11052\n",
      "Data columns (total 3 columns):\n",
      " #   Column      Non-Null Count  Dtype \n",
      "---  ------      --------------  ----- \n",
      " 0   statement   10299 non-null  object\n",
      " 1   label       10299 non-null  object\n",
      " 2   word_count  10299 non-null  int64 \n",
      "dtypes: int64(1), object(2)\n",
      "memory usage: 321.8+ KB\n"
     ]
    }
   ],
   "source": [
    "df_filtered.info()"
   ]
  },
  {
   "cell_type": "code",
   "execution_count": 23,
   "id": "c1cae877",
   "metadata": {},
   "outputs": [],
   "source": [
    "df_filtered.to_csv(\"wc1.csv\")"
   ]
  }
 ],
 "metadata": {
  "kernelspec": {
   "display_name": "engmod",
   "language": "python",
   "name": "python3"
  },
  "language_info": {
   "codemirror_mode": {
    "name": "ipython",
    "version": 3
   },
   "file_extension": ".py",
   "mimetype": "text/x-python",
   "name": "python",
   "nbconvert_exporter": "python",
   "pygments_lexer": "ipython3",
   "version": "3.12.10"
  }
 },
 "nbformat": 4,
 "nbformat_minor": 5
}
